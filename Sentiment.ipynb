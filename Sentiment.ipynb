{
  "cells": [
    {
      "cell_type": "code",
      "execution_count": 1,
      "metadata": {
        "colab": {
          "base_uri": "https://localhost:8080/"
        },
        "id": "8vc0kkqjX5bb",
        "outputId": "9b3affbf-e377-4125-deb0-8c7ea545b844"
      },
      "outputs": [
        {
          "output_type": "stream",
          "name": "stdout",
          "text": [
            "Looking in indexes: https://pypi.org/simple, https://us-python.pkg.dev/colab-wheels/public/simple/\n",
            "Collecting transformers\n",
            "  Downloading transformers-4.25.1-py3-none-any.whl (5.8 MB)\n",
            "\u001b[K     |████████████████████████████████| 5.8 MB 5.3 MB/s \n",
            "\u001b[?25hRequirement already satisfied: regex!=2019.12.17 in /usr/local/lib/python3.8/dist-packages (from transformers) (2022.6.2)\n",
            "Requirement already satisfied: requests in /usr/local/lib/python3.8/dist-packages (from transformers) (2.23.0)\n",
            "Collecting huggingface-hub<1.0,>=0.10.0\n",
            "  Downloading huggingface_hub-0.11.1-py3-none-any.whl (182 kB)\n",
            "\u001b[K     |████████████████████████████████| 182 kB 15.9 MB/s \n",
            "\u001b[?25hRequirement already satisfied: filelock in /usr/local/lib/python3.8/dist-packages (from transformers) (3.8.0)\n",
            "Requirement already satisfied: packaging>=20.0 in /usr/local/lib/python3.8/dist-packages (from transformers) (21.3)\n",
            "Requirement already satisfied: numpy>=1.17 in /usr/local/lib/python3.8/dist-packages (from transformers) (1.21.6)\n",
            "Collecting tokenizers!=0.11.3,<0.14,>=0.11.1\n",
            "  Downloading tokenizers-0.13.2-cp38-cp38-manylinux_2_17_x86_64.manylinux2014_x86_64.whl (7.6 MB)\n",
            "\u001b[K     |████████████████████████████████| 7.6 MB 12.1 MB/s \n",
            "\u001b[?25hRequirement already satisfied: pyyaml>=5.1 in /usr/local/lib/python3.8/dist-packages (from transformers) (6.0)\n",
            "Requirement already satisfied: tqdm>=4.27 in /usr/local/lib/python3.8/dist-packages (from transformers) (4.64.1)\n",
            "Requirement already satisfied: typing-extensions>=3.7.4.3 in /usr/local/lib/python3.8/dist-packages (from huggingface-hub<1.0,>=0.10.0->transformers) (4.1.1)\n",
            "Requirement already satisfied: pyparsing!=3.0.5,>=2.0.2 in /usr/local/lib/python3.8/dist-packages (from packaging>=20.0->transformers) (3.0.9)\n",
            "Requirement already satisfied: certifi>=2017.4.17 in /usr/local/lib/python3.8/dist-packages (from requests->transformers) (2022.9.24)\n",
            "Requirement already satisfied: idna<3,>=2.5 in /usr/local/lib/python3.8/dist-packages (from requests->transformers) (2.10)\n",
            "Requirement already satisfied: chardet<4,>=3.0.2 in /usr/local/lib/python3.8/dist-packages (from requests->transformers) (3.0.4)\n",
            "Requirement already satisfied: urllib3!=1.25.0,!=1.25.1,<1.26,>=1.21.1 in /usr/local/lib/python3.8/dist-packages (from requests->transformers) (1.24.3)\n",
            "Installing collected packages: tokenizers, huggingface-hub, transformers\n",
            "Successfully installed huggingface-hub-0.11.1 tokenizers-0.13.2 transformers-4.25.1\n"
          ]
        }
      ],
      "source": [
        "!pip install transformers\n"
      ]
    },
    {
      "cell_type": "code",
      "execution_count": null,
      "metadata": {
        "id": "roObUYgPgUSf"
      },
      "outputs": [],
      "source": []
    },
    {
      "cell_type": "code",
      "execution_count": 2,
      "metadata": {
        "colab": {
          "base_uri": "https://localhost:8080/"
        },
        "id": "VYrInhLbSlzW",
        "outputId": "8e8b9fd7-cfa1-4501-9bb4-cff525b0a871"
      },
      "outputs": [
        {
          "output_type": "stream",
          "name": "stderr",
          "text": [
            "[nltk_data] Downloading package stopwords to /root/nltk_data...\n",
            "[nltk_data]   Unzipping corpora/stopwords.zip.\n"
          ]
        }
      ],
      "source": [
        "#Imports\n",
        "# utilities\n",
        "import re\n",
        "import pickle\n",
        "import numpy as np\n",
        "import pandas as pd\n",
        "from google.colab import files\n",
        "\n",
        "# plotting\n",
        "import seaborn as sns\n",
        "from wordcloud import WordCloud, STOPWORDS, ImageColorGenerator\n",
        "import matplotlib.pyplot as plt\n",
        "import plotly.express as px\n",
        "import plotly.figure_factory as ff\n",
        "\n",
        "\n",
        "# nltk\n",
        "import nltk\n",
        "nltk.download('stopwords')\n",
        "from nltk.corpus import stopwords\n",
        "from nltk.stem import WordNetLemmatizer\n",
        "\n",
        "# important libraries\n",
        "from bokeh.plotting import figure\n",
        "from bokeh.io import output_file, show, output_notebook\n",
        "from collections import Counter\n",
        "import spacy\n",
        "from spacy.util import compounding\n",
        "from spacy.util import minibatch\n",
        "from spacy import displacy\n",
        "import gc\n",
        "import os\n",
        "\n",
        "# sklearn\n",
        "from sklearn.svm import LinearSVC\n",
        "from sklearn.naive_bayes import BernoulliNB\n",
        "from sklearn.linear_model import LogisticRegression\n",
        "from sklearn.discriminant_analysis import LinearDiscriminantAnalysis\n",
        "from sklearn.neighbors import KNeighborsClassifier\n",
        "from sklearn.tree import DecisionTreeClassifier\n",
        "from sklearn.ensemble import RandomForestClassifier\n",
        "\n",
        "from sklearn.model_selection import train_test_split\n",
        "from sklearn import metrics\n",
        "from sklearn.feature_extraction.text import TfidfVectorizer\n",
        "from sklearn.metrics import confusion_matrix, classification_report"
      ]
    },
    {
      "cell_type": "code",
      "execution_count": 3,
      "metadata": {
        "colab": {
          "base_uri": "https://localhost:8080/"
        },
        "id": "uZUw7pWqf3mA",
        "outputId": "4ba43986-a77a-4f66-99c1-f46ef073c0f4"
      },
      "outputs": [
        {
          "output_type": "stream",
          "name": "stdout",
          "text": [
            "Mounted at /content/warData\n"
          ]
        }
      ],
      "source": [
        "from google.colab import drive\n",
        "drive.mount('/content/warData')"
      ]
    },
    {
      "cell_type": "code",
      "execution_count": 10,
      "metadata": {
        "id": "omyUirwO66tH"
      },
      "outputs": [],
      "source": [
        "csv_collection = []\n",
        "for dirname, _, filenames in os.walk('/content/warData/MyDrive/archive/UkraineWar'):\n",
        "    for filename in filenames:\n",
        "        fullpath= os.path.join(dirname, filename)\n",
        "        csv_collection.append(fullpath)\n",
        "csv_collection.sort()"
      ]
    },
    {
      "cell_type": "code",
      "source": [
        "import re\n",
        "#FILTER BY MONTH\n",
        "csv_collection = [file for file in csv_collection if re.search(r\"MAR\", file) or re.search(r\"202203\", file)]"
      ],
      "metadata": {
        "id": "sOiTjfP7tqaS"
      },
      "execution_count": 11,
      "outputs": []
    },
    {
      "cell_type": "code",
      "execution_count": 12,
      "metadata": {
        "id": "i9P6DS-HSeJj"
      },
      "outputs": [],
      "source": [
        "df = pd.read_csv(csv_collection.pop(),compression = 'gzip', index_col=0)\n",
        "for data in csv_collection:\n",
        "    try:\n",
        "        tmp = pd.read_csv(data, compression = 'gzip', index_col=0)\n",
        "    except:\n",
        "            tmp = pd.read_csv(data, index_col = 0)\n",
        "            df = pd.concat([df, tmp], axis=0)"
      ]
    },
    {
      "cell_type": "code",
      "execution_count": null,
      "metadata": {
        "id": "hCV4vU9DX0u_"
      },
      "outputs": [],
      "source": [
        "import torch\n",
        "import urllib\n",
        "import csv\n",
        "from scipy.special import softmax\n",
        "\n",
        "from transformers import AutoTokenizer, AutoModelForSequenceClassification\n",
        "\n",
        "\n",
        "device = \"cuda:0\" if torch.cuda.is_available() else \"cpu\""
      ]
    },
    {
      "cell_type": "code",
      "execution_count": null,
      "metadata": {
        "id": "d-mHI6KBVkkI"
      },
      "outputs": [],
      "source": [
        "sentiment_df = df[['tweetid', 'text', 'hashtags', 'language']] \n",
        "sentiment_df = sentiment_df.loc[sentiment_df['language'] == 'en'].reset_index(drop=True)  \n",
        "sentiment_df = sentiment_df.loc[sentiment_df['language'] == 'en'].reset_index(drop=True)  \n",
        "\n",
        "\n",
        "\n",
        "\n",
        "def preprocess(text):\n",
        "    new_text = []\n",
        "    for t in text.split(\" \"):\n",
        "        t = '@user' if t.startswith('@') and len(t) > 1 else t\n",
        "        t = 'http' if t.startswith('http') else t\n",
        "        new_text.append(t)\n",
        "    return \" \".join(new_text)\n",
        "sentiment_df['hashtags'] = sentiment_df.hashtags.map(lambda x: [i['text'] for i in eval(x)]) \n",
        "sentiment_df['text'] = sentiment_df['text'].apply(preprocess)\n"
      ]
    },
    {
      "cell_type": "code",
      "execution_count": null,
      "metadata": {
        "id": "30Bfu72EYujj"
      },
      "outputs": [],
      "source": [
        "tokenizer = AutoTokenizer.from_pretrained(\"cardiffnlp/twitter-roberta-base-sentiment\")\n",
        "\n",
        "model = AutoModelForSequenceClassification.from_pretrained(\"cardiffnlp/twitter-roberta-base-sentiment\").to(device)\n",
        "\n",
        "task='sentiment'\n",
        "labels=[]\n",
        "mapping_link = f\"https://raw.githubusercontent.com/cardiffnlp/tweeteval/main/datasets/{task}/mapping.txt\"\n",
        "with urllib.request.urlopen(mapping_link) as f:\n",
        "    html = f.read().decode('utf-8').split(\"\\n\")\n",
        "    csvreader = csv.reader(html, delimiter='\\t')\n",
        "labels = [row[1] for row in csvreader if len(row) > 1]\n",
        "\n"
      ]
    },
    {
      "cell_type": "code",
      "execution_count": null,
      "metadata": {
        "colab": {
          "base_uri": "https://localhost:8080/"
        },
        "id": "PAie_EPMovrW",
        "outputId": "95f0793f-8d5d-47f5-c225-9bd2620f3cf8"
      },
      "outputs": [
        {
          "output_type": "stream",
          "name": "stderr",
          "text": [
            "Asking to truncate to max_length but no maximum length is provided and the model has no predefined maximum length. Default to no truncation.\n"
          ]
        }
      ],
      "source": [
        "from scipy.special import softmax\n",
        "from tqdm import tqdm\n",
        "\n",
        "BATCH_SIZE = 100 # number of tweets in a batch that will be passed into tokenizer\n",
        "sentiment_df1=sentiment_df.sample(n=2000)\n",
        "scores_all = np.empty((0,len(labels)))\n",
        "text_all = sentiment_df1['text'].to_list()\n",
        "n = len(text_all)\n",
        "with torch.no_grad():\n",
        "    for start_idx in range(0, n, BATCH_SIZE):\n",
        "        end_idx = min(start_idx+BATCH_SIZE, n)\n",
        "        encoded_input = tokenizer(text_all[start_idx:end_idx], return_tensors='pt', padding=True, truncation=True).to(device)\n",
        "        output = model(**encoded_input)\n",
        "        scores = output[0].detach().cpu().numpy()\n",
        "        scores = softmax(scores, axis=1)\n",
        "        scores_all = np.concatenate((scores_all, scores), axis=0)\n",
        "        del encoded_input, output, scores\n",
        "        torch.cuda.empty_cache()\n",
        "    \n",
        "\n",
        "sentiment_df[labels] = pd.DataFrame(scores_all, columns=labels)\n"
      ]
    },
    {
      "cell_type": "code",
      "execution_count": null,
      "metadata": {
        "id": "P_CXQPFhpypx"
      },
      "outputs": [],
      "source": [
        "sentiment_df.to_csv(\"./DTweets_Sentiment_Analysis_RoBERTa_Raw_Values.csv\", index=False)"
      ]
    },
    {
      "cell_type": "code",
      "execution_count": null,
      "metadata": {
        "id": "TTzuT0E8wWa7"
      },
      "outputs": [],
      "source": []
    },
    {
      "cell_type": "code",
      "execution_count": null,
      "metadata": {
        "colab": {
          "base_uri": "https://localhost:8080/",
          "height": 461
        },
        "id": "lEBfpvmzwkZE",
        "outputId": "a793a297-8f14-45a2-b6f6-b51190211023"
      },
      "outputs": [
        {
          "output_type": "execute_result",
          "data": {
            "text/plain": [
              "               tweetid                                               text  \\\n",
              "0  1509319562654720000  Humanitarian drive in Midhurst sends medicine,...   \n",
              "1  1509319562658865155  This morning, #LetUsPray for #RussiaUkraine th...   \n",
              "2  1509319563095142401  #RussiaUkraineWar | Horrors of nuclear war hau...   \n",
              "3  1509319563237740544                       Moral support. #Ukraine http   \n",
              "4  1509319563749564421  #Russian citizens KNOW the genocide going on i...   \n",
              "\n",
              "                                            hashtags language  negative  \\\n",
              "0                                          [Ukraine]       en  0.036543   \n",
              "1  [LetUsPray, RussiaUkraine, Kuwaresma2022, Paro...       en  0.578282   \n",
              "2                   [RussiaUkraineWar, 5iveLive, RE]       en  0.779296   \n",
              "3                                          [Ukraine]       en  0.364505   \n",
              "4                       [Russian, Ukraine, Mariupol]       en  0.518575   \n",
              "\n",
              "    neutral  positive  \n",
              "0  0.845744  0.117713  \n",
              "1  0.398310  0.023408  \n",
              "2  0.208694  0.012010  \n",
              "3  0.604708  0.030786  \n",
              "4  0.414800  0.066624  "
            ],
            "text/html": [
              "\n",
              "  <div id=\"df-2b58cb09-685b-4b18-b2fb-b33ac664a216\">\n",
              "    <div class=\"colab-df-container\">\n",
              "      <div>\n",
              "<style scoped>\n",
              "    .dataframe tbody tr th:only-of-type {\n",
              "        vertical-align: middle;\n",
              "    }\n",
              "\n",
              "    .dataframe tbody tr th {\n",
              "        vertical-align: top;\n",
              "    }\n",
              "\n",
              "    .dataframe thead th {\n",
              "        text-align: right;\n",
              "    }\n",
              "</style>\n",
              "<table border=\"1\" class=\"dataframe\">\n",
              "  <thead>\n",
              "    <tr style=\"text-align: right;\">\n",
              "      <th></th>\n",
              "      <th>tweetid</th>\n",
              "      <th>text</th>\n",
              "      <th>hashtags</th>\n",
              "      <th>language</th>\n",
              "      <th>negative</th>\n",
              "      <th>neutral</th>\n",
              "      <th>positive</th>\n",
              "    </tr>\n",
              "  </thead>\n",
              "  <tbody>\n",
              "    <tr>\n",
              "      <th>0</th>\n",
              "      <td>1509319562654720000</td>\n",
              "      <td>Humanitarian drive in Midhurst sends medicine,...</td>\n",
              "      <td>[Ukraine]</td>\n",
              "      <td>en</td>\n",
              "      <td>0.036543</td>\n",
              "      <td>0.845744</td>\n",
              "      <td>0.117713</td>\n",
              "    </tr>\n",
              "    <tr>\n",
              "      <th>1</th>\n",
              "      <td>1509319562658865155</td>\n",
              "      <td>This morning, #LetUsPray for #RussiaUkraine th...</td>\n",
              "      <td>[LetUsPray, RussiaUkraine, Kuwaresma2022, Paro...</td>\n",
              "      <td>en</td>\n",
              "      <td>0.578282</td>\n",
              "      <td>0.398310</td>\n",
              "      <td>0.023408</td>\n",
              "    </tr>\n",
              "    <tr>\n",
              "      <th>2</th>\n",
              "      <td>1509319563095142401</td>\n",
              "      <td>#RussiaUkraineWar | Horrors of nuclear war hau...</td>\n",
              "      <td>[RussiaUkraineWar, 5iveLive, RE]</td>\n",
              "      <td>en</td>\n",
              "      <td>0.779296</td>\n",
              "      <td>0.208694</td>\n",
              "      <td>0.012010</td>\n",
              "    </tr>\n",
              "    <tr>\n",
              "      <th>3</th>\n",
              "      <td>1509319563237740544</td>\n",
              "      <td>Moral support. #Ukraine http</td>\n",
              "      <td>[Ukraine]</td>\n",
              "      <td>en</td>\n",
              "      <td>0.364505</td>\n",
              "      <td>0.604708</td>\n",
              "      <td>0.030786</td>\n",
              "    </tr>\n",
              "    <tr>\n",
              "      <th>4</th>\n",
              "      <td>1509319563749564421</td>\n",
              "      <td>#Russian citizens KNOW the genocide going on i...</td>\n",
              "      <td>[Russian, Ukraine, Mariupol]</td>\n",
              "      <td>en</td>\n",
              "      <td>0.518575</td>\n",
              "      <td>0.414800</td>\n",
              "      <td>0.066624</td>\n",
              "    </tr>\n",
              "  </tbody>\n",
              "</table>\n",
              "</div>\n",
              "      <button class=\"colab-df-convert\" onclick=\"convertToInteractive('df-2b58cb09-685b-4b18-b2fb-b33ac664a216')\"\n",
              "              title=\"Convert this dataframe to an interactive table.\"\n",
              "              style=\"display:none;\">\n",
              "        \n",
              "  <svg xmlns=\"http://www.w3.org/2000/svg\" height=\"24px\"viewBox=\"0 0 24 24\"\n",
              "       width=\"24px\">\n",
              "    <path d=\"M0 0h24v24H0V0z\" fill=\"none\"/>\n",
              "    <path d=\"M18.56 5.44l.94 2.06.94-2.06 2.06-.94-2.06-.94-.94-2.06-.94 2.06-2.06.94zm-11 1L8.5 8.5l.94-2.06 2.06-.94-2.06-.94L8.5 2.5l-.94 2.06-2.06.94zm10 10l.94 2.06.94-2.06 2.06-.94-2.06-.94-.94-2.06-.94 2.06-2.06.94z\"/><path d=\"M17.41 7.96l-1.37-1.37c-.4-.4-.92-.59-1.43-.59-.52 0-1.04.2-1.43.59L10.3 9.45l-7.72 7.72c-.78.78-.78 2.05 0 2.83L4 21.41c.39.39.9.59 1.41.59.51 0 1.02-.2 1.41-.59l7.78-7.78 2.81-2.81c.8-.78.8-2.07 0-2.86zM5.41 20L4 18.59l7.72-7.72 1.47 1.35L5.41 20z\"/>\n",
              "  </svg>\n",
              "      </button>\n",
              "      \n",
              "  <style>\n",
              "    .colab-df-container {\n",
              "      display:flex;\n",
              "      flex-wrap:wrap;\n",
              "      gap: 12px;\n",
              "    }\n",
              "\n",
              "    .colab-df-convert {\n",
              "      background-color: #E8F0FE;\n",
              "      border: none;\n",
              "      border-radius: 50%;\n",
              "      cursor: pointer;\n",
              "      display: none;\n",
              "      fill: #1967D2;\n",
              "      height: 32px;\n",
              "      padding: 0 0 0 0;\n",
              "      width: 32px;\n",
              "    }\n",
              "\n",
              "    .colab-df-convert:hover {\n",
              "      background-color: #E2EBFA;\n",
              "      box-shadow: 0px 1px 2px rgba(60, 64, 67, 0.3), 0px 1px 3px 1px rgba(60, 64, 67, 0.15);\n",
              "      fill: #174EA6;\n",
              "    }\n",
              "\n",
              "    [theme=dark] .colab-df-convert {\n",
              "      background-color: #3B4455;\n",
              "      fill: #D2E3FC;\n",
              "    }\n",
              "\n",
              "    [theme=dark] .colab-df-convert:hover {\n",
              "      background-color: #434B5C;\n",
              "      box-shadow: 0px 1px 3px 1px rgba(0, 0, 0, 0.15);\n",
              "      filter: drop-shadow(0px 1px 2px rgba(0, 0, 0, 0.3));\n",
              "      fill: #FFFFFF;\n",
              "    }\n",
              "  </style>\n",
              "\n",
              "      <script>\n",
              "        const buttonEl =\n",
              "          document.querySelector('#df-2b58cb09-685b-4b18-b2fb-b33ac664a216 button.colab-df-convert');\n",
              "        buttonEl.style.display =\n",
              "          google.colab.kernel.accessAllowed ? 'block' : 'none';\n",
              "\n",
              "        async function convertToInteractive(key) {\n",
              "          const element = document.querySelector('#df-2b58cb09-685b-4b18-b2fb-b33ac664a216');\n",
              "          const dataTable =\n",
              "            await google.colab.kernel.invokeFunction('convertToInteractive',\n",
              "                                                     [key], {});\n",
              "          if (!dataTable) return;\n",
              "\n",
              "          const docLinkHtml = 'Like what you see? Visit the ' +\n",
              "            '<a target=\"_blank\" href=https://colab.research.google.com/notebooks/data_table.ipynb>data table notebook</a>'\n",
              "            + ' to learn more about interactive tables.';\n",
              "          element.innerHTML = '';\n",
              "          dataTable['output_type'] = 'display_data';\n",
              "          await google.colab.output.renderOutput(dataTable, element);\n",
              "          const docLink = document.createElement('div');\n",
              "          docLink.innerHTML = docLinkHtml;\n",
              "          element.appendChild(docLink);\n",
              "        }\n",
              "      </script>\n",
              "    </div>\n",
              "  </div>\n",
              "  "
            ]
          },
          "metadata": {},
          "execution_count": 15
        }
      ],
      "source": [
        "sentiment_df.head()"
      ]
    },
    {
      "cell_type": "code",
      "source": [
        "labeled_df = pd.read_csv(\"/content/DTweets_Sentiment_Analysis_RoBERTa_Raw_Values.csv\", lineterminator='\\n')"
      ],
      "metadata": {
        "id": "X19cJq37T-_r"
      },
      "execution_count": null,
      "outputs": []
    },
    {
      "cell_type": "code",
      "source": [
        "labeled_df.insert(7, \"Sentiment\", '')\n",
        "for i in range(len(labeled_df)):\n",
        "  if labeled_df['negative'][i] > labeled_df['positive'][i] and labeled_df['negative'][i] > labeled_df['neutral'][i]:\n",
        "    labeled_df['Sentiment'][i] = 'negative'\n",
        "  elif labeled_df['positive'][i] > labeled_df['negative'][i] and labeled_df['positive'][i] >labeled_df['neutral'][i]:\n",
        "    labeled_df['Sentiment'][i]= 'positive'\n",
        "  else:\n",
        "    labeled_df['Sentiment'][i] = 'neutral'\n"
      ],
      "metadata": {
        "id": "amfGJeimUA_c"
      },
      "execution_count": null,
      "outputs": []
    },
    {
      "cell_type": "code",
      "source": [
        "labeled_df.drop(['negative','positive','neutral'], axis=1, inplace=True)\n",
        "labeled_df.drop('language', axis=1, inplace=True)\n",
        "labeled_df.to_csv(\"./Tweets_Sentiment_Analysis_RoBERTa.csv\", index=False)"
      ],
      "metadata": {
        "id": "_hH1tQglUTqC"
      },
      "execution_count": null,
      "outputs": []
    },
    {
      "cell_type": "code",
      "source": [
        "plt.figure(figsize = (8,7))\n",
        "sns.countplot(x=\"Sentiment\", data=labeled_df, palette='magma')"
      ],
      "metadata": {
        "colab": {
          "base_uri": "https://localhost:8080/",
          "height": 459
        },
        "id": "mZMO6rj1UbF3",
        "outputId": "54a14bc8-69a4-4500-82bc-6e3052769534"
      },
      "execution_count": null,
      "outputs": [
        {
          "output_type": "execute_result",
          "data": {
            "text/plain": [
              "<matplotlib.axes._subplots.AxesSubplot at 0x7fb80f980290>"
            ]
          },
          "metadata": {},
          "execution_count": 25
        },
        {
          "output_type": "display_data",
          "data": {
            "text/plain": [
              "<Figure size 576x504 with 1 Axes>"
            ],
            "image/png": "[encoded data removed]"
          },
          "metadata": {
            "needs_background": "light"
          }
        }
      ]
    },
    {
      "cell_type": "code",
      "source": [
        "tweet_neg = labeled_df.loc[labeled_df['Sentiment'] == 'negative'].reset_index(drop=True)\n",
        "tweet_net = labeled_df.loc[labeled_df['Sentiment'] == 'neutral'].reset_index(drop=True)\n",
        "tweet_pos = labeled_df.loc[labeled_df['Sentiment'] == 'positive'].reset_index(drop=True)"
      ],
      "metadata": {
        "id": "128HkKz9qfOq"
      },
      "execution_count": null,
      "outputs": []
    },
    {
      "cell_type": "code",
      "source": [
        "stopwords_set = set(STOPWORDS)\n",
        "wordcloud = WordCloud(background_color='white',\n",
        "                     stopwords = stopwords_set,\n",
        "                      max_words = 300,\n",
        "                      max_font_size = 40,\n",
        "                      scale = 2,\n",
        "                      random_state=42\n",
        "                     ).generate(str(tweet_neg['text']))\n",
        "\n",
        "print(wordcloud)\n",
        "plt.imshow(wordcloud)\n",
        "plt.axis('off')\n",
        "plt.show()"
      ],
      "metadata": {
        "id": "e5fF9gz3qJWg"
      },
      "execution_count": null,
      "outputs": []
    }
  ],
  "metadata": {
    "colab": {
      "provenance": [],
      "toc_visible": true
    },
    "kernelspec": {
      "display_name": "Python 3",
      "name": "python3"
    },
    "language_info": {
      "name": "python"
    }
  },
  "nbformat": 4,
  "nbformat_minor": 0
}