{
  "cells": [
    {
      "cell_type": "code",
      "execution_count": 1,
      "metadata": {
        "colab": {
          "base_uri": "https://localhost:8080/"
        },
        "id": "8vc0kkqjX5bb",
        "outputId": "f33ca213-9b92-4013-f8a8-6ee3a50c1f1d"
      },
      "outputs": [
        {
          "output_type": "stream",
          "name": "stdout",
          "text": [
            "Looking in indexes: https://pypi.org/simple, https://us-python.pkg.dev/colab-wheels/public/simple/\n",
            "Requirement already satisfied: transformers in /usr/local/lib/python3.8/dist-packages (4.25.1)\n",
            "Requirement already satisfied: tqdm>=4.27 in /usr/local/lib/python3.8/dist-packages (from transformers) (4.64.1)\n",
            "Requirement already satisfied: pyyaml>=5.1 in /usr/local/lib/python3.8/dist-packages (from transformers) (6.0)\n",
            "Requirement already satisfied: huggingface-hub<1.0,>=0.10.0 in /usr/local/lib/python3.8/dist-packages (from transformers) (0.11.1)\n",
            "Requirement already satisfied: regex!=2019.12.17 in /usr/local/lib/python3.8/dist-packages (from transformers) (2022.6.2)\n",
            "Requirement already satisfied: numpy>=1.17 in /usr/local/lib/python3.8/dist-packages (from transformers) (1.21.6)\n",
            "Requirement already satisfied: requests in /usr/local/lib/python3.8/dist-packages (from transformers) (2.23.0)\n",
            "Requirement already satisfied: filelock in /usr/local/lib/python3.8/dist-packages (from transformers) (3.8.0)\n",
            "Requirement already satisfied: packaging>=20.0 in /usr/local/lib/python3.8/dist-packages (from transformers) (21.3)\n",
            "Requirement already satisfied: tokenizers!=0.11.3,<0.14,>=0.11.1 in /usr/local/lib/python3.8/dist-packages (from transformers) (0.13.2)\n",
            "Requirement already satisfied: typing-extensions>=3.7.4.3 in /usr/local/lib/python3.8/dist-packages (from huggingface-hub<1.0,>=0.10.0->transformers) (4.4.0)\n",
            "Requirement already satisfied: pyparsing!=3.0.5,>=2.0.2 in /usr/local/lib/python3.8/dist-packages (from packaging>=20.0->transformers) (3.0.9)\n",
            "Requirement already satisfied: idna<3,>=2.5 in /usr/local/lib/python3.8/dist-packages (from requests->transformers) (2.10)\n",
            "Requirement already satisfied: chardet<4,>=3.0.2 in /usr/local/lib/python3.8/dist-packages (from requests->transformers) (3.0.4)\n",
            "Requirement already satisfied: certifi>=2017.4.17 in /usr/local/lib/python3.8/dist-packages (from requests->transformers) (2022.9.24)\n",
            "Requirement already satisfied: urllib3!=1.25.0,!=1.25.1,<1.26,>=1.21.1 in /usr/local/lib/python3.8/dist-packages (from requests->transformers) (1.24.3)\n"
          ]
        }
      ],
      "source": [
        "!pip install transformers\n"
      ]
    },
    {
      "cell_type": "code",
      "execution_count": null,
      "metadata": {
        "id": "roObUYgPgUSf"
      },
      "outputs": [],
      "source": []
    },
    {
      "cell_type": "code",
      "execution_count": 2,
      "metadata": {
        "colab": {
          "base_uri": "https://localhost:8080/"
        },
        "id": "VYrInhLbSlzW",
        "outputId": "ac4c368c-9f61-493d-abc7-35766c8c2a81"
      },
      "outputs": [
        {
          "output_type": "stream",
          "name": "stderr",
          "text": [
            "[nltk_data] Downloading package stopwords to /root/nltk_data...\n",
            "[nltk_data]   Package stopwords is already up-to-date!\n",
            "/usr/local/lib/python3.8/dist-packages/torch/cuda/__init__.py:497: UserWarning: Can't initialize NVML\n",
            "  warnings.warn(\"Can't initialize NVML\")\n"
          ]
        }
      ],
      "source": [
        "#Imports\n",
        "# utilities\n",
        "import re\n",
        "import pickle\n",
        "import numpy as np\n",
        "import pandas as pd\n",
        "from google.colab import files\n",
        "\n",
        "# plotting\n",
        "import seaborn as sns\n",
        "from wordcloud import WordCloud, STOPWORDS, ImageColorGenerator\n",
        "import matplotlib.pyplot as plt\n",
        "import plotly.express as px\n",
        "import plotly.figure_factory as ff\n",
        "\n",
        "\n",
        "# nltk\n",
        "import nltk\n",
        "nltk.download('stopwords')\n",
        "from nltk.corpus import stopwords\n",
        "from nltk.stem import WordNetLemmatizer\n",
        "\n",
        "# important libraries\n",
        "from bokeh.plotting import figure\n",
        "from bokeh.io import output_file, show, output_notebook\n",
        "from collections import Counter\n",
        "import spacy\n",
        "from spacy.util import compounding\n",
        "from spacy.util import minibatch\n",
        "from spacy import displacy\n",
        "import gc\n",
        "import os\n",
        "\n",
        "# sklearn\n",
        "from sklearn.svm import LinearSVC\n",
        "from sklearn.naive_bayes import BernoulliNB\n",
        "from sklearn.linear_model import LogisticRegression\n",
        "from sklearn.discriminant_analysis import LinearDiscriminantAnalysis\n",
        "from sklearn.neighbors import KNeighborsClassifier\n",
        "from sklearn.tree import DecisionTreeClassifier\n",
        "from sklearn.ensemble import RandomForestClassifier\n",
        "\n",
        "from sklearn.model_selection import train_test_split\n",
        "from sklearn import metrics\n",
        "from sklearn.feature_extraction.text import TfidfVectorizer\n",
        "from sklearn.metrics import confusion_matrix, classification_report"
      ]
    },
    {
      "cell_type": "code",
      "execution_count": 3,
      "metadata": {
        "colab": {
          "base_uri": "https://localhost:8080/"
        },
        "id": "uZUw7pWqf3mA",
        "outputId": "ed0f4944-b9f7-46f0-d556-fde2c5966d48"
      },
      "outputs": [
        {
          "output_type": "stream",
          "name": "stdout",
          "text": [
            "Drive already mounted at /content/warData; to attempt to forcibly remount, call drive.mount(\"/content/warData\", force_remount=True).\n"
          ]
        }
      ],
      "source": [
        "from google.colab import drive\n",
        "drive.mount('/content/warData')"
      ]
    },
    {
      "cell_type": "code",
      "execution_count": 4,
      "metadata": {
        "id": "omyUirwO66tH"
      },
      "outputs": [],
      "source": [
        "csv_collection = []\n",
        "for dirname, _, filenames in os.walk('/content/warData/MyDrive/archive/UkraineWar'):\n",
        "    for filename in filenames:\n",
        "        fullpath= os.path.join(dirname, filename)\n",
        "        csv_collection.append(fullpath)\n",
        "csv_collection.sort()"
      ]
    },
    {
      "cell_type": "code",
      "source": [
        "print(len(csv_collection))"
      ],
      "metadata": {
        "colab": {
          "base_uri": "https://localhost:8080/"
        },
        "id": "tcHTF4KSjPJM",
        "outputId": "00f3258b-8a2f-457a-e5b7-03c244aceb77"
      },
      "execution_count": 39,
      "outputs": [
        {
          "output_type": "stream",
          "name": "stdout",
          "text": [
            "253\n"
          ]
        }
      ]
    },
    {
      "cell_type": "code",
      "source": [
        "import re\n",
        "import random\n",
        "#FILTER BY MONTH\n",
        "csv_collection = [file for file in csv_collection if re.search(r\"MAR\", file) or re.search(r\"202203\", file)]"
      ],
      "metadata": {
        "id": "sOiTjfP7tqaS"
      },
      "execution_count": 7,
      "outputs": []
    },
    {
      "cell_type": "code",
      "source": [
        "print(len(csv_collection)) \n",
        "csv_collection= random.sample(csv_collection, 3)\n",
        "print(len(csv_collection)) "
      ],
      "metadata": {
        "colab": {
          "base_uri": "https://localhost:8080/"
        },
        "id": "GIoSLZAhkFsM",
        "outputId": "1794f1c8-7598-496e-9457-42c8a82f10d2"
      },
      "execution_count": 8,
      "outputs": [
        {
          "output_type": "stream",
          "name": "stdout",
          "text": [
            "30\n",
            "3\n"
          ]
        }
      ]
    },
    {
      "cell_type": "code",
      "execution_count": 9,
      "metadata": {
        "id": "i9P6DS-HSeJj",
        "colab": {
          "base_uri": "https://localhost:8080/"
        },
        "outputId": "03c4bb28-3504-415b-e8cd-b7294c322ab5"
      },
      "outputs": [
        {
          "output_type": "stream",
          "name": "stderr",
          "text": [
            "/usr/local/lib/python3.8/dist-packages/IPython/core/interactiveshell.py:3326: DtypeWarning: Columns (15) have mixed types.Specify dtype option on import or set low_memory=False.\n",
            "  exec(code_obj, self.user_global_ns, self.user_ns)\n"
          ]
        }
      ],
      "source": [
        "df = pd.read_csv(csv_collection.pop(),compression = 'gzip', index_col=0)\n",
        "\n",
        "for data in csv_collection:\n",
        "    try:\n",
        "        tmp = pd.read_csv(data, compression = 'gzip', index_col=0)\n",
        "    except: \n",
        "            tmp = pd.read_csv(data, index_col = 0)\n",
        "    df = pd.concat([df, tmp], axis=0)"
      ]
    },
    {
      "cell_type": "code",
      "source": [
        "df.size"
      ],
      "metadata": {
        "colab": {
          "base_uri": "https://localhost:8080/"
        },
        "id": "AatnqZVudOOQ",
        "outputId": "8c2a4d5a-a445-441a-b393-86678fd85c58"
      },
      "execution_count": 10,
      "outputs": [
        {
          "output_type": "execute_result",
          "data": {
            "text/plain": [
              "22266192"
            ]
          },
          "metadata": {},
          "execution_count": 10
        }
      ]
    },
    {
      "cell_type": "code",
      "execution_count": 19,
      "metadata": {
        "id": "hCV4vU9DX0u_"
      },
      "outputs": [],
      "source": [
        "import torch\n",
        "import urllib\n",
        "import csv\n",
        "from scipy.special import softmax\n",
        "\n",
        "from transformers import AutoTokenizer, AutoModelForSequenceClassification\n",
        "\n",
        "\n",
        "device = \"cuda:0\" if torch.cuda.is_available() else \"cpu\""
      ]
    },
    {
      "cell_type": "code",
      "execution_count": 20,
      "metadata": {
        "id": "d-mHI6KBVkkI"
      },
      "outputs": [],
      "source": [
        "sentiment_df = df[['tweetid', 'text', 'hashtags', 'language']] \n",
        "sentiment_df = sentiment_df.loc[sentiment_df['language'] == 'en'].reset_index(drop=True)  \n",
        "sentiment_df = sentiment_df.loc[sentiment_df['language'] == 'en'].reset_index(drop=True)  \n",
        "\n",
        "\n",
        "\n",
        "\n",
        "def preprocess(text):\n",
        "    new_text = []\n",
        "    for t in text.split(\" \"):\n",
        "        t = '@user' if t.startswith('@') and len(t) > 1 else t\n",
        "        t = 'http' if t.startswith('http') else t\n",
        "        new_text.append(t)\n",
        "    return \" \".join(new_text)\n",
        "sentiment_df['hashtags'] = sentiment_df.hashtags.map(lambda x: [i['text'] for i in eval(x)]) \n",
        "sentiment_df['text'] = sentiment_df['text'].apply(preprocess)\n"
      ]
    },
    {
      "cell_type": "code",
      "execution_count": 21,
      "metadata": {
        "id": "30Bfu72EYujj"
      },
      "outputs": [],
      "source": [
        "tokenizer = AutoTokenizer.from_pretrained(\"cardiffnlp/twitter-roberta-base-sentiment\")\n",
        "\n",
        "model = AutoModelForSequenceClassification.from_pretrained(\"cardiffnlp/twitter-roberta-base-sentiment\").to(device)\n",
        "\n",
        "task='sentiment'\n",
        "labels=[]\n",
        "mapping_link = f\"https://raw.githubusercontent.com/cardiffnlp/tweeteval/main/datasets/{task}/mapping.txt\"\n",
        "with urllib.request.urlopen(mapping_link) as f:\n",
        "    html = f.read().decode('utf-8').split(\"\\n\")\n",
        "    csvreader = csv.reader(html, delimiter='\\t')\n",
        "labels = [row[1] for row in csvreader if len(row) > 1]\n",
        "\n"
      ]
    },
    {
      "cell_type": "code",
      "execution_count": 115,
      "metadata": {
        "id": "PAie_EPMovrW"
      },
      "outputs": [],
      "source": [
        "from scipy.special import softmax\n",
        "from tqdm import tqdm\n",
        "\n",
        "BATCH_SIZE = 100 # number of tweets in a batch that will be passed into tokenizer\n",
        "sentiment_df1=sentiment_df.sample(n=1000)\n",
        "scores_all = np.empty((0,len(labels)))\n",
        "text_all = sentiment_df1['text'].to_list()\n",
        "n = len(text_all)\n",
        "with torch.no_grad():\n",
        "    for start_idx in range(0, n, BATCH_SIZE):\n",
        "        end_idx = min(start_idx+BATCH_SIZE, n)\n",
        "        encoded_input = tokenizer(text_all[start_idx:end_idx], return_tensors='pt', padding=True, truncation=True).to(device)\n",
        "        output = model(**encoded_input)\n",
        "        scores = output[0].detach().cpu().numpy()\n",
        "        scores = softmax(scores, axis=1)\n",
        "        scores_all = np.concatenate((scores_all, scores), axis=0)\n",
        "        del encoded_input, output, scores\n",
        "        torch.cuda.empty_cache()\n",
        "    \n",
        "\n",
        "#sentiment_df1[labels] = pd.DataFrame(scores_all, columns=labels)\n"
      ]
    },
    {
      "cell_type": "code",
      "source": [
        "testdf=sentiment_df1\n",
        "sentiment_df1Backup=sentiment_df1\n",
        "valsdf=pd.DataFrame()\n",
        "valsdf[labels]=pd.DataFrame(scores_all, columns=labels)\n",
        "testdf=testdf.reset_index(drop=True)\n",
        "testdf[labels]=pd.DataFrame(scores_all, columns=labels)\n",
        "sentiment_df1=testdf"
      ],
      "metadata": {
        "id": "i2wQKy9HF0RI"
      },
      "execution_count": 122,
      "outputs": []
    },
    {
      "cell_type": "code",
      "source": [
        "sentiment_df1.head()"
      ],
      "metadata": {
        "colab": {
          "base_uri": "https://localhost:8080/",
          "height": 354
        },
        "id": "AtpSfZvOGb0o",
        "outputId": "131b83ec-8bce-43e2-ba18-9e4ddffce020"
      },
      "execution_count": 123,
      "outputs": [
        {
          "output_type": "execute_result",
          "data": {
            "text/plain": [
              "               tweetid                                               text  \\\n",
              "0  1499815414947266565  @user Ukraine needs weapons and humanitarian a...   \n",
              "1  1506487467217768450  Putin's oligarchs have a safety mechanism: UAE...   \n",
              "2  1499579958301433856  Shill your #NFT 🎨\\n\\nShow collectors what you'...   \n",
              "3  1506543613915848704  Aerial shots of destroyed Russian equipment.\\n...   \n",
              "4  1506547861831491591  While the #IC focuses on the #Russia-Ukraine w...   \n",
              "\n",
              "                                 hashtags language  negative   neutral  \\\n",
              "0  [Putin, SafeAirliftUkraine, StopPutin]       en  0.760938  0.224387   \n",
              "1          [UkraineWar, UkraineRussiaWar]       en  0.279821  0.667477   \n",
              "2                                   [NFT]       en  0.002892  0.253621   \n",
              "3                       [Russia, Ukraine]       en  0.764409  0.225549   \n",
              "4      [IC, Russia, AbiyAhmedAli, Tigray]       en  0.622564  0.360050   \n",
              "\n",
              "   positive  \n",
              "0  0.014674  \n",
              "1  0.052702  \n",
              "2  0.743487  \n",
              "3  0.010041  \n",
              "4  0.017386  "
            ],
            "text/html": [
              "\n",
              "  <div id=\"df-b3950a52-b84b-4d4b-932e-3e61a99b2c87\">\n",
              "    <div class=\"colab-df-container\">\n",
              "      <div>\n",
              "<style scoped>\n",
              "    .dataframe tbody tr th:only-of-type {\n",
              "        vertical-align: middle;\n",
              "    }\n",
              "\n",
              "    .dataframe tbody tr th {\n",
              "        vertical-align: top;\n",
              "    }\n",
              "\n",
              "    .dataframe thead th {\n",
              "        text-align: right;\n",
              "    }\n",
              "</style>\n",
              "<table border=\"1\" class=\"dataframe\">\n",
              "  <thead>\n",
              "    <tr style=\"text-align: right;\">\n",
              "      <th></th>\n",
              "      <th>tweetid</th>\n",
              "      <th>text</th>\n",
              "      <th>hashtags</th>\n",
              "      <th>language</th>\n",
              "      <th>negative</th>\n",
              "      <th>neutral</th>\n",
              "      <th>positive</th>\n",
              "    </tr>\n",
              "  </thead>\n",
              "  <tbody>\n",
              "    <tr>\n",
              "      <th>0</th>\n",
              "      <td>1499815414947266565</td>\n",
              "      <td>@user Ukraine needs weapons and humanitarian a...</td>\n",
              "      <td>[Putin, SafeAirliftUkraine, StopPutin]</td>\n",
              "      <td>en</td>\n",
              "      <td>0.760938</td>\n",
              "      <td>0.224387</td>\n",
              "      <td>0.014674</td>\n",
              "    </tr>\n",
              "    <tr>\n",
              "      <th>1</th>\n",
              "      <td>1506487467217768450</td>\n",
              "      <td>Putin's oligarchs have a safety mechanism: UAE...</td>\n",
              "      <td>[UkraineWar, UkraineRussiaWar]</td>\n",
              "      <td>en</td>\n",
              "      <td>0.279821</td>\n",
              "      <td>0.667477</td>\n",
              "      <td>0.052702</td>\n",
              "    </tr>\n",
              "    <tr>\n",
              "      <th>2</th>\n",
              "      <td>1499579958301433856</td>\n",
              "      <td>Shill your #NFT 🎨\\n\\nShow collectors what you'...</td>\n",
              "      <td>[NFT]</td>\n",
              "      <td>en</td>\n",
              "      <td>0.002892</td>\n",
              "      <td>0.253621</td>\n",
              "      <td>0.743487</td>\n",
              "    </tr>\n",
              "    <tr>\n",
              "      <th>3</th>\n",
              "      <td>1506543613915848704</td>\n",
              "      <td>Aerial shots of destroyed Russian equipment.\\n...</td>\n",
              "      <td>[Russia, Ukraine]</td>\n",
              "      <td>en</td>\n",
              "      <td>0.764409</td>\n",
              "      <td>0.225549</td>\n",
              "      <td>0.010041</td>\n",
              "    </tr>\n",
              "    <tr>\n",
              "      <th>4</th>\n",
              "      <td>1506547861831491591</td>\n",
              "      <td>While the #IC focuses on the #Russia-Ukraine w...</td>\n",
              "      <td>[IC, Russia, AbiyAhmedAli, Tigray]</td>\n",
              "      <td>en</td>\n",
              "      <td>0.622564</td>\n",
              "      <td>0.360050</td>\n",
              "      <td>0.017386</td>\n",
              "    </tr>\n",
              "  </tbody>\n",
              "</table>\n",
              "</div>\n",
              "      <button class=\"colab-df-convert\" onclick=\"convertToInteractive('df-b3950a52-b84b-4d4b-932e-3e61a99b2c87')\"\n",
              "              title=\"Convert this dataframe to an interactive table.\"\n",
              "              style=\"display:none;\">\n",
              "        \n",
              "  <svg xmlns=\"http://www.w3.org/2000/svg\" height=\"24px\"viewBox=\"0 0 24 24\"\n",
              "       width=\"24px\">\n",
              "    <path d=\"M0 0h24v24H0V0z\" fill=\"none\"/>\n",
              "    <path d=\"M18.56 5.44l.94 2.06.94-2.06 2.06-.94-2.06-.94-.94-2.06-.94 2.06-2.06.94zm-11 1L8.5 8.5l.94-2.06 2.06-.94-2.06-.94L8.5 2.5l-.94 2.06-2.06.94zm10 10l.94 2.06.94-2.06 2.06-.94-2.06-.94-.94-2.06-.94 2.06-2.06.94z\"/><path d=\"M17.41 7.96l-1.37-1.37c-.4-.4-.92-.59-1.43-.59-.52 0-1.04.2-1.43.59L10.3 9.45l-7.72 7.72c-.78.78-.78 2.05 0 2.83L4 21.41c.39.39.9.59 1.41.59.51 0 1.02-.2 1.41-.59l7.78-7.78 2.81-2.81c.8-.78.8-2.07 0-2.86zM5.41 20L4 18.59l7.72-7.72 1.47 1.35L5.41 20z\"/>\n",
              "  </svg>\n",
              "      </button>\n",
              "      \n",
              "  <style>\n",
              "    .colab-df-container {\n",
              "      display:flex;\n",
              "      flex-wrap:wrap;\n",
              "      gap: 12px;\n",
              "    }\n",
              "\n",
              "    .colab-df-convert {\n",
              "      background-color: #E8F0FE;\n",
              "      border: none;\n",
              "      border-radius: 50%;\n",
              "      cursor: pointer;\n",
              "      display: none;\n",
              "      fill: #1967D2;\n",
              "      height: 32px;\n",
              "      padding: 0 0 0 0;\n",
              "      width: 32px;\n",
              "    }\n",
              "\n",
              "    .colab-df-convert:hover {\n",
              "      background-color: #E2EBFA;\n",
              "      box-shadow: 0px 1px 2px rgba(60, 64, 67, 0.3), 0px 1px 3px 1px rgba(60, 64, 67, 0.15);\n",
              "      fill: #174EA6;\n",
              "    }\n",
              "\n",
              "    [theme=dark] .colab-df-convert {\n",
              "      background-color: #3B4455;\n",
              "      fill: #D2E3FC;\n",
              "    }\n",
              "\n",
              "    [theme=dark] .colab-df-convert:hover {\n",
              "      background-color: #434B5C;\n",
              "      box-shadow: 0px 1px 3px 1px rgba(0, 0, 0, 0.15);\n",
              "      filter: drop-shadow(0px 1px 2px rgba(0, 0, 0, 0.3));\n",
              "      fill: #FFFFFF;\n",
              "    }\n",
              "  </style>\n",
              "\n",
              "      <script>\n",
              "        const buttonEl =\n",
              "          document.querySelector('#df-b3950a52-b84b-4d4b-932e-3e61a99b2c87 button.colab-df-convert');\n",
              "        buttonEl.style.display =\n",
              "          google.colab.kernel.accessAllowed ? 'block' : 'none';\n",
              "\n",
              "        async function convertToInteractive(key) {\n",
              "          const element = document.querySelector('#df-b3950a52-b84b-4d4b-932e-3e61a99b2c87');\n",
              "          const dataTable =\n",
              "            await google.colab.kernel.invokeFunction('convertToInteractive',\n",
              "                                                     [key], {});\n",
              "          if (!dataTable) return;\n",
              "\n",
              "          const docLinkHtml = 'Like what you see? Visit the ' +\n",
              "            '<a target=\"_blank\" href=https://colab.research.google.com/notebooks/data_table.ipynb>data table notebook</a>'\n",
              "            + ' to learn more about interactive tables.';\n",
              "          element.innerHTML = '';\n",
              "          dataTable['output_type'] = 'display_data';\n",
              "          await google.colab.output.renderOutput(dataTable, element);\n",
              "          const docLink = document.createElement('div');\n",
              "          docLink.innerHTML = docLinkHtml;\n",
              "          element.appendChild(docLink);\n",
              "        }\n",
              "      </script>\n",
              "    </div>\n",
              "  </div>\n",
              "  "
            ]
          },
          "metadata": {},
          "execution_count": 123
        }
      ]
    },
    {
      "cell_type": "code",
      "execution_count": 124,
      "metadata": {
        "id": "P_CXQPFhpypx"
      },
      "outputs": [],
      "source": [
        "sentiment_df1.to_csv(\"./DTweets_Sentiment_Analysis_RoBERTa_Raw_Values.csv\", index=True)"
      ]
    },
    {
      "cell_type": "code",
      "source": [
        "labeled_df = pd.read_csv(\"/content/DTweets_Sentiment_Analysis_RoBERTa_Raw_Values.csv\", lineterminator='\\n')"
      ],
      "metadata": {
        "id": "X19cJq37T-_r"
      },
      "execution_count": 125,
      "outputs": []
    },
    {
      "cell_type": "code",
      "source": [
        "labeled_df.head()"
      ],
      "metadata": {
        "colab": {
          "base_uri": "https://localhost:8080/",
          "height": 458
        },
        "id": "QxUHa24iGrE6",
        "outputId": "235bd2c4-6181-4b7c-98f9-73e63579479a"
      },
      "execution_count": 126,
      "outputs": [
        {
          "output_type": "execute_result",
          "data": {
            "text/plain": [
              "   Unnamed: 0              tweetid  \\\n",
              "0           0  1499815414947266565   \n",
              "1           1  1506487467217768450   \n",
              "2           2  1499579958301433856   \n",
              "3           3  1506543613915848704   \n",
              "4           4  1506547861831491591   \n",
              "\n",
              "                                                text  \\\n",
              "0  @user Ukraine needs weapons and humanitarian a...   \n",
              "1  Putin's oligarchs have a safety mechanism: UAE...   \n",
              "2  Shill your #NFT 🎨\\n\\nShow collectors what you'...   \n",
              "3  Aerial shots of destroyed Russian equipment.\\n...   \n",
              "4  While the #IC focuses on the #Russia-Ukraine w...   \n",
              "\n",
              "                                       hashtags language  negative   neutral  \\\n",
              "0  ['Putin', 'SafeAirliftUkraine', 'StopPutin']       en  0.760938  0.224387   \n",
              "1            ['UkraineWar', 'UkraineRussiaWar']       en  0.279821  0.667477   \n",
              "2                                       ['NFT']       en  0.002892  0.253621   \n",
              "3                         ['Russia', 'Ukraine']       en  0.764409  0.225549   \n",
              "4    ['IC', 'Russia', 'AbiyAhmedAli', 'Tigray']       en  0.622564  0.360050   \n",
              "\n",
              "   positive  \n",
              "0  0.014674  \n",
              "1  0.052702  \n",
              "2  0.743487  \n",
              "3  0.010041  \n",
              "4  0.017386  "
            ],
            "text/html": [
              "\n",
              "  <div id=\"df-a8021ef3-9f6a-452c-8950-e3114a0b41f6\">\n",
              "    <div class=\"colab-df-container\">\n",
              "      <div>\n",
              "<style scoped>\n",
              "    .dataframe tbody tr th:only-of-type {\n",
              "        vertical-align: middle;\n",
              "    }\n",
              "\n",
              "    .dataframe tbody tr th {\n",
              "        vertical-align: top;\n",
              "    }\n",
              "\n",
              "    .dataframe thead th {\n",
              "        text-align: right;\n",
              "    }\n",
              "</style>\n",
              "<table border=\"1\" class=\"dataframe\">\n",
              "  <thead>\n",
              "    <tr style=\"text-align: right;\">\n",
              "      <th></th>\n",
              "      <th>Unnamed: 0</th>\n",
              "      <th>tweetid</th>\n",
              "      <th>text</th>\n",
              "      <th>hashtags</th>\n",
              "      <th>language</th>\n",
              "      <th>negative</th>\n",
              "      <th>neutral</th>\n",
              "      <th>positive</th>\n",
              "    </tr>\n",
              "  </thead>\n",
              "  <tbody>\n",
              "    <tr>\n",
              "      <th>0</th>\n",
              "      <td>0</td>\n",
              "      <td>1499815414947266565</td>\n",
              "      <td>@user Ukraine needs weapons and humanitarian a...</td>\n",
              "      <td>['Putin', 'SafeAirliftUkraine', 'StopPutin']</td>\n",
              "      <td>en</td>\n",
              "      <td>0.760938</td>\n",
              "      <td>0.224387</td>\n",
              "      <td>0.014674</td>\n",
              "    </tr>\n",
              "    <tr>\n",
              "      <th>1</th>\n",
              "      <td>1</td>\n",
              "      <td>1506487467217768450</td>\n",
              "      <td>Putin's oligarchs have a safety mechanism: UAE...</td>\n",
              "      <td>['UkraineWar', 'UkraineRussiaWar']</td>\n",
              "      <td>en</td>\n",
              "      <td>0.279821</td>\n",
              "      <td>0.667477</td>\n",
              "      <td>0.052702</td>\n",
              "    </tr>\n",
              "    <tr>\n",
              "      <th>2</th>\n",
              "      <td>2</td>\n",
              "      <td>1499579958301433856</td>\n",
              "      <td>Shill your #NFT 🎨\\n\\nShow collectors what you'...</td>\n",
              "      <td>['NFT']</td>\n",
              "      <td>en</td>\n",
              "      <td>0.002892</td>\n",
              "      <td>0.253621</td>\n",
              "      <td>0.743487</td>\n",
              "    </tr>\n",
              "    <tr>\n",
              "      <th>3</th>\n",
              "      <td>3</td>\n",
              "      <td>1506543613915848704</td>\n",
              "      <td>Aerial shots of destroyed Russian equipment.\\n...</td>\n",
              "      <td>['Russia', 'Ukraine']</td>\n",
              "      <td>en</td>\n",
              "      <td>0.764409</td>\n",
              "      <td>0.225549</td>\n",
              "      <td>0.010041</td>\n",
              "    </tr>\n",
              "    <tr>\n",
              "      <th>4</th>\n",
              "      <td>4</td>\n",
              "      <td>1506547861831491591</td>\n",
              "      <td>While the #IC focuses on the #Russia-Ukraine w...</td>\n",
              "      <td>['IC', 'Russia', 'AbiyAhmedAli', 'Tigray']</td>\n",
              "      <td>en</td>\n",
              "      <td>0.622564</td>\n",
              "      <td>0.360050</td>\n",
              "      <td>0.017386</td>\n",
              "    </tr>\n",
              "  </tbody>\n",
              "</table>\n",
              "</div>\n",
              "      <button class=\"colab-df-convert\" onclick=\"convertToInteractive('df-a8021ef3-9f6a-452c-8950-e3114a0b41f6')\"\n",
              "              title=\"Convert this dataframe to an interactive table.\"\n",
              "              style=\"display:none;\">\n",
              "        \n",
              "  <svg xmlns=\"http://www.w3.org/2000/svg\" height=\"24px\"viewBox=\"0 0 24 24\"\n",
              "       width=\"24px\">\n",
              "    <path d=\"M0 0h24v24H0V0z\" fill=\"none\"/>\n",
              "    <path d=\"M18.56 5.44l.94 2.06.94-2.06 2.06-.94-2.06-.94-.94-2.06-.94 2.06-2.06.94zm-11 1L8.5 8.5l.94-2.06 2.06-.94-2.06-.94L8.5 2.5l-.94 2.06-2.06.94zm10 10l.94 2.06.94-2.06 2.06-.94-2.06-.94-.94-2.06-.94 2.06-2.06.94z\"/><path d=\"M17.41 7.96l-1.37-1.37c-.4-.4-.92-.59-1.43-.59-.52 0-1.04.2-1.43.59L10.3 9.45l-7.72 7.72c-.78.78-.78 2.05 0 2.83L4 21.41c.39.39.9.59 1.41.59.51 0 1.02-.2 1.41-.59l7.78-7.78 2.81-2.81c.8-.78.8-2.07 0-2.86zM5.41 20L4 18.59l7.72-7.72 1.47 1.35L5.41 20z\"/>\n",
              "  </svg>\n",
              "      </button>\n",
              "      \n",
              "  <style>\n",
              "    .colab-df-container {\n",
              "      display:flex;\n",
              "      flex-wrap:wrap;\n",
              "      gap: 12px;\n",
              "    }\n",
              "\n",
              "    .colab-df-convert {\n",
              "      background-color: #E8F0FE;\n",
              "      border: none;\n",
              "      border-radius: 50%;\n",
              "      cursor: pointer;\n",
              "      display: none;\n",
              "      fill: #1967D2;\n",
              "      height: 32px;\n",
              "      padding: 0 0 0 0;\n",
              "      width: 32px;\n",
              "    }\n",
              "\n",
              "    .colab-df-convert:hover {\n",
              "      background-color: #E2EBFA;\n",
              "      box-shadow: 0px 1px 2px rgba(60, 64, 67, 0.3), 0px 1px 3px 1px rgba(60, 64, 67, 0.15);\n",
              "      fill: #174EA6;\n",
              "    }\n",
              "\n",
              "    [theme=dark] .colab-df-convert {\n",
              "      background-color: #3B4455;\n",
              "      fill: #D2E3FC;\n",
              "    }\n",
              "\n",
              "    [theme=dark] .colab-df-convert:hover {\n",
              "      background-color: #434B5C;\n",
              "      box-shadow: 0px 1px 3px 1px rgba(0, 0, 0, 0.15);\n",
              "      filter: drop-shadow(0px 1px 2px rgba(0, 0, 0, 0.3));\n",
              "      fill: #FFFFFF;\n",
              "    }\n",
              "  </style>\n",
              "\n",
              "      <script>\n",
              "        const buttonEl =\n",
              "          document.querySelector('#df-a8021ef3-9f6a-452c-8950-e3114a0b41f6 button.colab-df-convert');\n",
              "        buttonEl.style.display =\n",
              "          google.colab.kernel.accessAllowed ? 'block' : 'none';\n",
              "\n",
              "        async function convertToInteractive(key) {\n",
              "          const element = document.querySelector('#df-a8021ef3-9f6a-452c-8950-e3114a0b41f6');\n",
              "          const dataTable =\n",
              "            await google.colab.kernel.invokeFunction('convertToInteractive',\n",
              "                                                     [key], {});\n",
              "          if (!dataTable) return;\n",
              "\n",
              "          const docLinkHtml = 'Like what you see? Visit the ' +\n",
              "            '<a target=\"_blank\" href=https://colab.research.google.com/notebooks/data_table.ipynb>data table notebook</a>'\n",
              "            + ' to learn more about interactive tables.';\n",
              "          element.innerHTML = '';\n",
              "          dataTable['output_type'] = 'display_data';\n",
              "          await google.colab.output.renderOutput(dataTable, element);\n",
              "          const docLink = document.createElement('div');\n",
              "          docLink.innerHTML = docLinkHtml;\n",
              "          element.appendChild(docLink);\n",
              "        }\n",
              "      </script>\n",
              "    </div>\n",
              "  </div>\n",
              "  "
            ]
          },
          "metadata": {},
          "execution_count": 126
        }
      ]
    },
    {
      "cell_type": "code",
      "source": [
        "\n",
        "labeled_df=sentiment_df1\n",
        "labeled_df.insert(7, \"Sentiment\", '')\n",
        "for i in range(len(labeled_df)):\n",
        "  if labeled_df['negative'][i] > labeled_df['positive'][i] and labeled_df['negative'][i] > labeled_df['neutral'][i]:\n",
        "    labeled_df['Sentiment'][i] = 'negative'\n",
        "  elif labeled_df['positive'][i] > labeled_df['negative'][i] and labeled_df['positive'][i] >labeled_df['neutral'][i]:\n",
        "    labeled_df['Sentiment'][i]= 'positive'\n",
        "  else:\n",
        "    labeled_df1['Sentiment'][i] = 'neutral'\n"
      ],
      "metadata": {
        "id": "amfGJeimUA_c"
      },
      "execution_count": 127,
      "outputs": []
    },
    {
      "cell_type": "code",
      "source": [
        "labeled_df.head()"
      ],
      "metadata": {
        "colab": {
          "base_uri": "https://localhost:8080/",
          "height": 441
        },
        "id": "fFa9-6EhgCBk",
        "outputId": "c9379949-65af-4c95-a825-51ac229dde8e"
      },
      "execution_count": 128,
      "outputs": [
        {
          "output_type": "execute_result",
          "data": {
            "text/plain": [
              "               tweetid                                               text  \\\n",
              "0  1499815414947266565  @user Ukraine needs weapons and humanitarian a...   \n",
              "1  1506487467217768450  Putin's oligarchs have a safety mechanism: UAE...   \n",
              "2  1499579958301433856  Shill your #NFT 🎨\\n\\nShow collectors what you'...   \n",
              "3  1506543613915848704  Aerial shots of destroyed Russian equipment.\\n...   \n",
              "4  1506547861831491591  While the #IC focuses on the #Russia-Ukraine w...   \n",
              "\n",
              "                                 hashtags language  negative   neutral  \\\n",
              "0  [Putin, SafeAirliftUkraine, StopPutin]       en  0.760938  0.224387   \n",
              "1          [UkraineWar, UkraineRussiaWar]       en  0.279821  0.667477   \n",
              "2                                   [NFT]       en  0.002892  0.253621   \n",
              "3                       [Russia, Ukraine]       en  0.764409  0.225549   \n",
              "4      [IC, Russia, AbiyAhmedAli, Tigray]       en  0.622564  0.360050   \n",
              "\n",
              "   positive Sentiment  \n",
              "0  0.014674  negative  \n",
              "1  0.052702            \n",
              "2  0.743487  positive  \n",
              "3  0.010041  negative  \n",
              "4  0.017386  negative  "
            ],
            "text/html": [
              "\n",
              "  <div id=\"df-85ff7f48-47cb-4b31-bc5d-39b7c286048f\">\n",
              "    <div class=\"colab-df-container\">\n",
              "      <div>\n",
              "<style scoped>\n",
              "    .dataframe tbody tr th:only-of-type {\n",
              "        vertical-align: middle;\n",
              "    }\n",
              "\n",
              "    .dataframe tbody tr th {\n",
              "        vertical-align: top;\n",
              "    }\n",
              "\n",
              "    .dataframe thead th {\n",
              "        text-align: right;\n",
              "    }\n",
              "</style>\n",
              "<table border=\"1\" class=\"dataframe\">\n",
              "  <thead>\n",
              "    <tr style=\"text-align: right;\">\n",
              "      <th></th>\n",
              "      <th>tweetid</th>\n",
              "      <th>text</th>\n",
              "      <th>hashtags</th>\n",
              "      <th>language</th>\n",
              "      <th>negative</th>\n",
              "      <th>neutral</th>\n",
              "      <th>positive</th>\n",
              "      <th>Sentiment</th>\n",
              "    </tr>\n",
              "  </thead>\n",
              "  <tbody>\n",
              "    <tr>\n",
              "      <th>0</th>\n",
              "      <td>1499815414947266565</td>\n",
              "      <td>@user Ukraine needs weapons and humanitarian a...</td>\n",
              "      <td>[Putin, SafeAirliftUkraine, StopPutin]</td>\n",
              "      <td>en</td>\n",
              "      <td>0.760938</td>\n",
              "      <td>0.224387</td>\n",
              "      <td>0.014674</td>\n",
              "      <td>negative</td>\n",
              "    </tr>\n",
              "    <tr>\n",
              "      <th>1</th>\n",
              "      <td>1506487467217768450</td>\n",
              "      <td>Putin's oligarchs have a safety mechanism: UAE...</td>\n",
              "      <td>[UkraineWar, UkraineRussiaWar]</td>\n",
              "      <td>en</td>\n",
              "      <td>0.279821</td>\n",
              "      <td>0.667477</td>\n",
              "      <td>0.052702</td>\n",
              "      <td></td>\n",
              "    </tr>\n",
              "    <tr>\n",
              "      <th>2</th>\n",
              "      <td>1499579958301433856</td>\n",
              "      <td>Shill your #NFT 🎨\\n\\nShow collectors what you'...</td>\n",
              "      <td>[NFT]</td>\n",
              "      <td>en</td>\n",
              "      <td>0.002892</td>\n",
              "      <td>0.253621</td>\n",
              "      <td>0.743487</td>\n",
              "      <td>positive</td>\n",
              "    </tr>\n",
              "    <tr>\n",
              "      <th>3</th>\n",
              "      <td>1506543613915848704</td>\n",
              "      <td>Aerial shots of destroyed Russian equipment.\\n...</td>\n",
              "      <td>[Russia, Ukraine]</td>\n",
              "      <td>en</td>\n",
              "      <td>0.764409</td>\n",
              "      <td>0.225549</td>\n",
              "      <td>0.010041</td>\n",
              "      <td>negative</td>\n",
              "    </tr>\n",
              "    <tr>\n",
              "      <th>4</th>\n",
              "      <td>1506547861831491591</td>\n",
              "      <td>While the #IC focuses on the #Russia-Ukraine w...</td>\n",
              "      <td>[IC, Russia, AbiyAhmedAli, Tigray]</td>\n",
              "      <td>en</td>\n",
              "      <td>0.622564</td>\n",
              "      <td>0.360050</td>\n",
              "      <td>0.017386</td>\n",
              "      <td>negative</td>\n",
              "    </tr>\n",
              "  </tbody>\n",
              "</table>\n",
              "</div>\n",
              "      <button class=\"colab-df-convert\" onclick=\"convertToInteractive('df-85ff7f48-47cb-4b31-bc5d-39b7c286048f')\"\n",
              "              title=\"Convert this dataframe to an interactive table.\"\n",
              "              style=\"display:none;\">\n",
              "        \n",
              "  <svg xmlns=\"http://www.w3.org/2000/svg\" height=\"24px\"viewBox=\"0 0 24 24\"\n",
              "       width=\"24px\">\n",
              "    <path d=\"M0 0h24v24H0V0z\" fill=\"none\"/>\n",
              "    <path d=\"M18.56 5.44l.94 2.06.94-2.06 2.06-.94-2.06-.94-.94-2.06-.94 2.06-2.06.94zm-11 1L8.5 8.5l.94-2.06 2.06-.94-2.06-.94L8.5 2.5l-.94 2.06-2.06.94zm10 10l.94 2.06.94-2.06 2.06-.94-2.06-.94-.94-2.06-.94 2.06-2.06.94z\"/><path d=\"M17.41 7.96l-1.37-1.37c-.4-.4-.92-.59-1.43-.59-.52 0-1.04.2-1.43.59L10.3 9.45l-7.72 7.72c-.78.78-.78 2.05 0 2.83L4 21.41c.39.39.9.59 1.41.59.51 0 1.02-.2 1.41-.59l7.78-7.78 2.81-2.81c.8-.78.8-2.07 0-2.86zM5.41 20L4 18.59l7.72-7.72 1.47 1.35L5.41 20z\"/>\n",
              "  </svg>\n",
              "      </button>\n",
              "      \n",
              "  <style>\n",
              "    .colab-df-container {\n",
              "      display:flex;\n",
              "      flex-wrap:wrap;\n",
              "      gap: 12px;\n",
              "    }\n",
              "\n",
              "    .colab-df-convert {\n",
              "      background-color: #E8F0FE;\n",
              "      border: none;\n",
              "      border-radius: 50%;\n",
              "      cursor: pointer;\n",
              "      display: none;\n",
              "      fill: #1967D2;\n",
              "      height: 32px;\n",
              "      padding: 0 0 0 0;\n",
              "      width: 32px;\n",
              "    }\n",
              "\n",
              "    .colab-df-convert:hover {\n",
              "      background-color: #E2EBFA;\n",
              "      box-shadow: 0px 1px 2px rgba(60, 64, 67, 0.3), 0px 1px 3px 1px rgba(60, 64, 67, 0.15);\n",
              "      fill: #174EA6;\n",
              "    }\n",
              "\n",
              "    [theme=dark] .colab-df-convert {\n",
              "      background-color: #3B4455;\n",
              "      fill: #D2E3FC;\n",
              "    }\n",
              "\n",
              "    [theme=dark] .colab-df-convert:hover {\n",
              "      background-color: #434B5C;\n",
              "      box-shadow: 0px 1px 3px 1px rgba(0, 0, 0, 0.15);\n",
              "      filter: drop-shadow(0px 1px 2px rgba(0, 0, 0, 0.3));\n",
              "      fill: #FFFFFF;\n",
              "    }\n",
              "  </style>\n",
              "\n",
              "      <script>\n",
              "        const buttonEl =\n",
              "          document.querySelector('#df-85ff7f48-47cb-4b31-bc5d-39b7c286048f button.colab-df-convert');\n",
              "        buttonEl.style.display =\n",
              "          google.colab.kernel.accessAllowed ? 'block' : 'none';\n",
              "\n",
              "        async function convertToInteractive(key) {\n",
              "          const element = document.querySelector('#df-85ff7f48-47cb-4b31-bc5d-39b7c286048f');\n",
              "          const dataTable =\n",
              "            await google.colab.kernel.invokeFunction('convertToInteractive',\n",
              "                                                     [key], {});\n",
              "          if (!dataTable) return;\n",
              "\n",
              "          const docLinkHtml = 'Like what you see? Visit the ' +\n",
              "            '<a target=\"_blank\" href=https://colab.research.google.com/notebooks/data_table.ipynb>data table notebook</a>'\n",
              "            + ' to learn more about interactive tables.';\n",
              "          element.innerHTML = '';\n",
              "          dataTable['output_type'] = 'display_data';\n",
              "          await google.colab.output.renderOutput(dataTable, element);\n",
              "          const docLink = document.createElement('div');\n",
              "          docLink.innerHTML = docLinkHtml;\n",
              "          element.appendChild(docLink);\n",
              "        }\n",
              "      </script>\n",
              "    </div>\n",
              "  </div>\n",
              "  "
            ]
          },
          "metadata": {},
          "execution_count": 128
        }
      ]
    },
    {
      "cell_type": "code",
      "source": [
        "labeled_df.drop(['negative','positive','neutral'], axis=1, inplace=True)\n",
        "labeled_df.drop('language', axis=1, inplace=True)\n",
        "labeled_df.to_csv(\"./Tweets_Sentiment_Analysis_RoBERTa.csv\", index=False)"
      ],
      "metadata": {
        "id": "_hH1tQglUTqC"
      },
      "execution_count": 129,
      "outputs": []
    },
    {
      "cell_type": "code",
      "source": [
        "plt.figure(figsize = (8,7))\n",
        "sns.countplot(x=\"Sentiment\", data=labeled_df, palette='magma')"
      ],
      "metadata": {
        "colab": {
          "base_uri": "https://localhost:8080/",
          "height": 459
        },
        "id": "mZMO6rj1UbF3",
        "outputId": "feeda140-46db-48ed-f716-e195891a5273"
      },
      "execution_count": 130,
      "outputs": [
        {
          "output_type": "execute_result",
          "data": {
            "text/plain": [
              "<matplotlib.axes._subplots.AxesSubplot at 0x7f5677be5850>"
            ]
          },
          "metadata": {},
          "execution_count": 130
        },
        {
          "output_type": "display_data",
          "data": {
            "text/plain": [
              "<Figure size 576x504 with 1 Axes>"
            ],
            "image/png": "[encoded data removed]"
          },
          "metadata": {
            "needs_background": "light"
          }
        }
      ]
    },
    {
      "cell_type": "code",
      "source": [
        "labeled_df.size"
      ],
      "metadata": {
        "colab": {
          "base_uri": "https://localhost:8080/"
        },
        "id": "AQlCbAoHiXt5",
        "outputId": "46f90bed-0f50-43af-9f9a-5a415b909f44"
      },
      "execution_count": 131,
      "outputs": [
        {
          "output_type": "execute_result",
          "data": {
            "text/plain": [
              "4000"
            ]
          },
          "metadata": {},
          "execution_count": 131
        }
      ]
    },
    {
      "cell_type": "code",
      "source": [
        "tweet_neg = labeled_df.loc[labeled_df['Sentiment'] == 'negative'].reset_index(drop=True)\n",
        "tweet_net = labeled_df.loc[labeled_df['Sentiment'] == 'neutral'].reset_index(drop=True)\n",
        "tweet_pos = labeled_df.loc[labeled_df['Sentiment'] == 'positive'].reset_index(drop=True)"
      ],
      "metadata": {
        "id": "128HkKz9qfOq"
      },
      "execution_count": 132,
      "outputs": []
    },
    {
      "cell_type": "code",
      "source": [
        "stopwords_set = set(STOPWORDS)\n",
        "wordcloud = WordCloud(background_color='white',\n",
        "                     stopwords = stopwords_set,\n",
        "                      max_words = 300,\n",
        "                      max_font_size = 40,\n",
        "                      scale = 2,\n",
        "                      random_state=42\n",
        "                     ).generate(str(tweet_neg['text']))\n",
        "\n",
        "print(wordcloud)\n",
        "plt.imshow(wordcloud)\n",
        "plt.axis('off')\n",
        "plt.show()"
      ],
      "metadata": {
        "id": "e5fF9gz3qJWg",
        "colab": {
          "base_uri": "https://localhost:8080/",
          "height": 215
        },
        "outputId": "d57b3c59-33e9-4cf8-c8b5-fbfcf4d842dd"
      },
      "execution_count": 133,
      "outputs": [
        {
          "output_type": "stream",
          "name": "stdout",
          "text": [
            "<wordcloud.wordcloud.WordCloud object at 0x7f5677c19850>\n"
          ]
        },
        {
          "output_type": "display_data",
          "data": {
            "text/plain": [
              "<Figure size 432x288 with 1 Axes>"
            ],
            "image/png": "[encoded data removed]"
          },
          "metadata": {
            "needs_background": "light"
          }
        }
      ]
    }
  ],
  "metadata": {
    "colab": {
      "provenance": []
    },
    "kernelspec": {
      "display_name": "Python 3",
      "name": "python3"
    },
    "language_info": {
      "name": "python"
    }
  },
  "nbformat": 4,
  "nbformat_minor": 0
}